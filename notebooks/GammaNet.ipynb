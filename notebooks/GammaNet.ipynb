{
 "cells": [
  {
   "cell_type": "code",
   "execution_count": 1,
   "id": "04488ae6-de48-4fea-98b4-84dd2633ec78",
   "metadata": {},
   "outputs": [],
   "source": [
    "import sys\n",
    "main_dir = '../'\n",
    "sys.path.append(main_dir)\n",
    "\n",
    "import numpy as np\n",
    "import matplotlib.pyplot as plt\n",
    "\n",
    "import opennu as on\n",
    "\n",
    "plt.style.use(main_dir+'sty.mplstyle')\n",
    "cols = ['#0C5DA5', '#00B945', '#FF9500', '#FF2C00', '#845B97', '#474747', '#9e9e9e']"
   ]
  },
  {
   "cell_type": "code",
   "execution_count": null,
   "id": "4d86868c-5cf3-4dd9-bc62-8e70835e6544",
   "metadata": {},
   "outputs": [],
   "source": []
  },
  {
   "cell_type": "code",
   "execution_count": null,
   "id": "03df401e-4a17-47e8-972b-f7eeaee3c733",
   "metadata": {},
   "outputs": [],
   "source": []
  },
  {
   "cell_type": "code",
   "execution_count": null,
   "id": "04460e50-3ac7-4541-aac9-0b759d406c1f",
   "metadata": {},
   "outputs": [],
   "source": []
  },
  {
   "cell_type": "code",
   "execution_count": null,
   "id": "cfef5e70-cc68-41d0-b191-ae1f3c19a5f7",
   "metadata": {},
   "outputs": [],
   "source": []
  },
  {
   "cell_type": "code",
   "execution_count": 6,
   "id": "921d258d-e911-4514-95f6-1303f4d53c98",
   "metadata": {},
   "outputs": [
    {
     "name": "stdout",
     "output_type": "stream",
     "text": [
      "optimal w=3.286e-08,  used w=3.286e-08\n",
      "g+/g- = 0.9346705\n",
      "Gammanet = 3.3607330e-02\n"
     ]
    }
   ],
   "source": [
    "R = 10\n",
    "eVHz   = 1 / 6.58e-16\n",
    "ns = 3e22\n",
    "knu    = 1 / 0.037                      # cm^-1\n",
    "N      = ns * 4 * np.pi / 3 * R**3      # number of spins\n",
    "fsup   = max(1, 4*(knu * R)**2)         # coherent suppression factor\n",
    "A  = 1\n",
    "Z  = 1\n",
    "gy = 42.58e6\n",
    "\n",
    "knueV = 5.3e-4\n",
    "m1 = 0.2\n",
    "w0_opt = knueV/m1/R/8065\n",
    "w0 = w0_opt\n",
    "B_opt = w0_opt * eVHz / (2*np.pi * gy)\n",
    "if B_opt > 12:\n",
    "    print(\"Optimal splitting needs too large B field, adjusting to Bmax!\")\n",
    "    B = Bmax\n",
    "    w0 = 2 * np.pi * gy * B / eVHz\n",
    "\n",
    "\n",
    "\n",
    "gratio, gm, mm = on.compute_ratio(m1, w0, A=A, Z=Z, mode='m1', majorana=True)\n",
    "Gnet = N**2/fsup*gm*(1-gratio)\n",
    "print(\"optimal w=%.3e,  used w=%.3e\"%(w0_opt, w0))\n",
    "print(\"g+/g- = %.7f\"%gratio)\n",
    "print(\"Gammanet = %.7e\"%Gnet)"
   ]
  },
  {
   "cell_type": "code",
   "execution_count": 7,
   "id": "3d51899b-cb5a-40d6-84ca-20cf57666f74",
   "metadata": {},
   "outputs": [
    {
     "data": {
      "text/plain": [
       "33.607329864854165"
      ]
     },
     "execution_count": 7,
     "metadata": {},
     "output_type": "execute_result"
    }
   ],
   "source": [
    "Gnet/1e-3"
   ]
  },
  {
   "cell_type": "code",
   "execution_count": null,
   "id": "6eb4d03f-8cf8-49a7-bbbe-8dbcf0e9fb07",
   "metadata": {},
   "outputs": [],
   "source": []
  }
 ],
 "metadata": {
  "kernelspec": {
   "display_name": "Python 3 (ipykernel)",
   "language": "python",
   "name": "python3"
  },
  "language_info": {
   "codemirror_mode": {
    "name": "ipython",
    "version": 3
   },
   "file_extension": ".py",
   "mimetype": "text/x-python",
   "name": "python",
   "nbconvert_exporter": "python",
   "pygments_lexer": "ipython3",
   "version": "3.10.12"
  }
 },
 "nbformat": 4,
 "nbformat_minor": 5
}
